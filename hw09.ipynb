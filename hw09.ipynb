{
 "cells": [
  {
   "cell_type": "markdown",
   "id": "36f46fdd-2405-4dc8-9ea1-33f395e56cc0",
   "metadata": {},
   "source": [
    "# Student Info\n",
    "\n",
    "* Name:  Eric S. Arnold\n",
    "* Net UD: esa5ch\n",
    "* URL of this file in GitHub: https://github.com/ericsarnold-UVA-MSDS/DS5100_Mod09/hw09.ipynb"
   ]
  },
  {
   "cell_type": "markdown",
   "id": "375875a8-1503-46eb-8ea1-7e5bf39b5c41",
   "metadata": {},
   "source": [
    "# Instructions\n",
    "\n",
    "In your **private course repo on Rivanna**, use this Jupyter notebook and the data file described to write code that performs the tasks below. \n",
    "\n",
    "Save your notebook in the `M09` directory.\n",
    "\n",
    "Remember to add and commit these files to your repo. \n",
    "\n",
    "Then push your commits to your repo on GitHib.\n",
    "\n",
    "Be sure to fill out the **Student Info** block above.\n",
    "\n",
    "To submit your homework, save your results as a PDF and upload it to GradeScope. More information about how to create the PDF for this assignment are included at the end of this document.\n",
    "\n",
    "**TOTAL POINTS: 8**"
   ]
  },
  {
   "cell_type": "markdown",
   "id": "1baf08dc-35fe-44f1-bc26-7e1130ee993e",
   "metadata": {},
   "source": [
    "# Overview\n",
    "\n",
    "Follow the following recipe we used in class to package the code you wrote for `HW08` -- `booklover.py` and `booklover_test.py`.\n",
    "\n",
    "* Create a new git repo for your package.\n",
    "* Create and edit the required files and directories for your package and move the booklover modules there.\n",
    "* Stage, commit, and push all the files you've created.\n",
    "* Install your package with pip.\n",
    "* Outside of your package dir, write a script to test your method.\n",
    "\n",
    "Put this notebook in your repo. This will allow you to execute bash commands and capture the outpunt directly in the notebook.\n",
    "\n",
    "**TOTAL: 8 POINTS**"
   ]
  },
  {
   "cell_type": "markdown",
   "id": "6e39ba79-49ee-41e8-9e49-23d9d6bac2e0",
   "metadata": {
    "tags": []
   },
   "source": [
    "# Tasks"
   ]
  },
  {
   "cell_type": "markdown",
   "id": "fb11de14",
   "metadata": {},
   "source": [
    "## Task 1\n",
    "\n",
    "(5 points)\n",
    "\n",
    "Show the directory structure of your repo by running this command from the root of your repo:"
   ]
  },
  {
   "cell_type": "code",
   "execution_count": 1,
   "id": "7e6c6607",
   "metadata": {},
   "outputs": [
    {
     "name": "stdout",
     "output_type": "stream",
     "text": [
      ".:\n",
      "total 36\n",
      "drwx--S--- 4 esa5ch users 3584 Mar 31 16:23 booklovers\n",
      "-rw-r--r-- 1 esa5ch users 7512 Mar 31 16:22 hw09.ipynb\n",
      "-rw------- 1 esa5ch users 1077 Mar 29 13:47 LICENSE\n",
      "drwx--S--- 2 esa5ch users 2048 Mar 31 15:29 Module9.egg-info\n",
      "drwx--S--- 2 esa5ch users  512 Mar 29 13:49 __pycache__\n",
      "-rw------- 1 esa5ch users   44 Mar 29 13:47 README.md\n",
      "-rw------- 1 esa5ch users  270 Mar 31 15:54 setup.py\n",
      "\n",
      "./booklovers:\n",
      "total 40\n",
      "-rw------- 1 esa5ch users 3249 Mar 31 16:15 book_lover_demo.py\n",
      "-rw-r--r-- 1 esa5ch users 1507 Mar 31 15:56 booklover.py\n",
      "-rw-r--r-- 1 esa5ch users 2604 Mar 31 15:56 booklover_test.py\n",
      "-rw------- 1 esa5ch users 3249 Mar 31 16:16 Demo.ipynb\n",
      "-rw------- 1 esa5ch users    0 Mar 31 16:23 __init__.py\n",
      "drwx--S--- 2 esa5ch users 1024 Mar 31 16:03 __pycache__\n",
      "\n",
      "./booklovers/__pycache__:\n",
      "total 12\n",
      "-rw------- 1 esa5ch users 2687 Mar 31 16:03 booklover.cpython-311.pyc\n",
      "-rw------- 1 esa5ch users  248 Mar 31 15:54 __init__.cpython-311.pyc\n",
      "\n",
      "./Module9.egg-info:\n",
      "total 16\n",
      "-rw------- 1 esa5ch users   1 Mar 31 15:29 dependency_links.txt\n",
      "-rw------- 1 esa5ch users 249 Mar 31 15:29 PKG-INFO\n",
      "-rw------- 1 esa5ch users 226 Mar 31 15:29 SOURCES.txt\n",
      "-rw------- 1 esa5ch users  11 Mar 31 15:29 top_level.txt\n",
      "\n",
      "./__pycache__:\n",
      "total 8\n",
      "-rw------- 1 esa5ch users 2676 Mar 29 13:49 booklover.cpython-311.pyc\n"
     ]
    }
   ],
   "source": [
    "!ls -lR"
   ]
  },
  {
   "cell_type": "markdown",
   "id": "6b6f288b-05aa-441b-8c73-84b50b3b6844",
   "metadata": {},
   "source": [
    "## Task 2\n",
    "\n",
    "(1 point)\n",
    "\n",
    "Put the URL of your GitHub repo here. Just paste it into a Markdown cell."
   ]
  },
  {
   "cell_type": "markdown",
   "id": "4d09d889-6104-4f20-b31c-2d8a72b17693",
   "metadata": {},
   "source": [
    "URL: https://github.com/ericsarnold-UVA-MSDS/DS5100_Mod09"
   ]
  },
  {
   "cell_type": "markdown",
   "id": "f989dcd1-b1d2-4eb9-8ef6-8ca2d8495260",
   "metadata": {
    "lines_to_next_cell": 0
   },
   "source": [
    "## Task 3\n",
    "\n",
    "(1 point)\n",
    "\n",
    "Show the results of installing your package.\n",
    "\n",
    "```bash\n",
    "!pip install -e .\n",
    "```"
   ]
  },
  {
   "cell_type": "code",
   "execution_count": 2,
   "id": "a519ad5b-4b5a-4e74-8560-8b0714e852ec",
   "metadata": {
    "tags": []
   },
   "outputs": [
    {
     "name": "stdout",
     "output_type": "stream",
     "text": [
      "Defaulting to user installation because normal site-packages is not writeable\n",
      "Obtaining file:///sfs/qumulo/qhome/esa5ch/Documents/MSDS/DS5100/DS5100_Mod09\n",
      "  Preparing metadata (setup.py) ... \u001b[?25ldone\n",
      "\u001b[?25hInstalling collected packages: Module9-HW\n",
      "  Running setup.py develop for Module9-HW\n",
      "Successfully installed Module9-HW-0.0.0\n"
     ]
    }
   ],
   "source": [
    "!pip install -e ."
   ]
  },
  {
   "cell_type": "markdown",
   "id": "5b1a642e-74f0-43ff-97a3-9ddc7553978e",
   "metadata": {},
   "source": [
    "## Task 4\n",
    "\n",
    "(1 point)\n",
    "\n",
    "Create a file outside your repo to test your package by running it.\n",
    "\n",
    "To do this, import the package into your file and create a BookLover object.\n",
    "\n",
    "Then add a book and then print number books read.\n",
    "\n",
    "Then run the file. \n",
    "\n",
    "Show the output of running the file below, using a command like the following:\n",
    "\n",
    "```bash\n",
    "!python ../book_lover_demo.py\n",
    "```"
   ]
  },
  {
   "cell_type": "code",
   "execution_count": 8,
   "id": "5924fca8-6483-4f2b-a33f-6550d1726d6e",
   "metadata": {},
   "outputs": [],
   "source": [
    "import pandas as pd\n",
    "from booklovers.booklover import BookLover"
   ]
  },
  {
   "cell_type": "code",
   "execution_count": 9,
   "id": "03ebf09a-f597-4515-aa07-617b39c2a43d",
   "metadata": {
    "tags": []
   },
   "outputs": [],
   "source": [
    "newby = BookLover(\"Eric S. Arnold\", \"esa5ch@virginia.edu\", \"Comedy\")"
   ]
  },
  {
   "cell_type": "code",
   "execution_count": 14,
   "id": "8c24e0a5-1db7-4e43-a063-89aa785a9fb4",
   "metadata": {
    "tags": []
   },
   "outputs": [
    {
     "name": "stdout",
     "output_type": "stream",
     "text": [
      "This book has already been added!\n",
      "This book has already been added!\n"
     ]
    }
   ],
   "source": [
    "newby.add_book(\"Indiana Jones\", 4)\n",
    "newby.add_book(\"Kill Bill\", 2)"
   ]
  },
  {
   "cell_type": "code",
   "execution_count": 18,
   "id": "3b810862-3721-4d0b-ad34-427d2e9ee889",
   "metadata": {
    "tags": []
   },
   "outputs": [
    {
     "name": "stdout",
     "output_type": "stream",
     "text": [
      "3\n",
      "            book_name  book_rating\n",
      "0  Dumb Dumb & Dumber          4.0\n",
      "2       Indiana Jones          4.0\n"
     ]
    },
    {
     "data": {
      "text/html": [
       "<div>\n",
       "<style scoped>\n",
       "    .dataframe tbody tr th:only-of-type {\n",
       "        vertical-align: middle;\n",
       "    }\n",
       "\n",
       "    .dataframe tbody tr th {\n",
       "        vertical-align: top;\n",
       "    }\n",
       "\n",
       "    .dataframe thead th {\n",
       "        text-align: right;\n",
       "    }\n",
       "</style>\n",
       "<table border=\"1\" class=\"dataframe\">\n",
       "  <thead>\n",
       "    <tr style=\"text-align: right;\">\n",
       "      <th></th>\n",
       "      <th>book_name</th>\n",
       "      <th>book_rating</th>\n",
       "    </tr>\n",
       "  </thead>\n",
       "  <tbody>\n",
       "    <tr>\n",
       "      <th>0</th>\n",
       "      <td>Dumb Dumb &amp; Dumber</td>\n",
       "      <td>4.0</td>\n",
       "    </tr>\n",
       "    <tr>\n",
       "      <th>2</th>\n",
       "      <td>Indiana Jones</td>\n",
       "      <td>4.0</td>\n",
       "    </tr>\n",
       "  </tbody>\n",
       "</table>\n",
       "</div>"
      ],
      "text/plain": [
       "            book_name  book_rating\n",
       "0  Dumb Dumb & Dumber          4.0\n",
       "2       Indiana Jones          4.0"
      ]
     },
     "execution_count": 18,
     "metadata": {},
     "output_type": "execute_result"
    }
   ],
   "source": [
    "newby.num_books_read()\n",
    "newby.fav_books()"
   ]
  },
  {
   "cell_type": "code",
   "execution_count": 19,
   "id": "c1bf9299-3f87-43f7-8b7c-14c3d6dccd4c",
   "metadata": {
    "tags": []
   },
   "outputs": [
    {
     "name": "stdout",
     "output_type": "stream",
     "text": [
      "python: can't open file '/sfs/qumulo/qhome/esa5ch/Documents/MSDS/DS5100/DS5100_Mod09/../book_lover_demo.py': [Errno 2] No such file or directory\n"
     ]
    }
   ],
   "source": [
    "!python ../book_lover_demo.py"
   ]
  },
  {
   "cell_type": "code",
   "execution_count": null,
   "id": "023bf12f-67d7-4e98-8c07-68c75a49483e",
   "metadata": {},
   "outputs": [],
   "source": []
  }
 ],
 "metadata": {
  "jupytext": {
   "cell_metadata_filter": "-all",
   "main_language": "bash",
   "notebook_metadata_filter": "-all"
  },
  "kernelspec": {
   "display_name": "Python 3 (ipykernel)",
   "language": "python",
   "name": "python3"
  },
  "language_info": {
   "codemirror_mode": {
    "name": "ipython",
    "version": 3
   },
   "file_extension": ".py",
   "mimetype": "text/x-python",
   "name": "python",
   "nbconvert_exporter": "python",
   "pygments_lexer": "ipython3",
   "version": "3.11.4"
  },
  "vscode": {
   "interpreter": {
    "hash": "c3b963de08c47c3b6758389c5e0978ad73698a111eb508d4e16b558edb8f4cbf"
   }
  },
  "widgets": {
   "application/vnd.jupyter.widget-state+json": {
    "state": {},
    "version_major": 2,
    "version_minor": 0
   }
  }
 },
 "nbformat": 4,
 "nbformat_minor": 5
}
